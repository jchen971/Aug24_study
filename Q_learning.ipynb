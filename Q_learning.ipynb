{
  "nbformat": 4,
  "nbformat_minor": 0,
  "metadata": {
    "colab": {
      "provenance": []
    },
    "kernelspec": {
      "name": "python3",
      "display_name": "Python 3"
    },
    "language_info": {
      "name": "python"
    }
  },
  "cells": [
    {
      "cell_type": "markdown",
      "source": [
        "Q-table learning\n"
      ],
      "metadata": {
        "id": "yp1hdI1qvjgq"
      }
    },
    {
      "cell_type": "code",
      "execution_count": null,
      "metadata": {
        "id": "0sA2htYMmSKc"
      },
      "outputs": [],
      "source": [
        "import gym\n",
        "import numpy as np"
      ]
    },
    {
      "cell_type": "code",
      "source": [
        "env = gym.make('FrozenLake-v1')"
      ],
      "metadata": {
        "colab": {
          "base_uri": "https://localhost:8080/"
        },
        "id": "9gq0VcBwmZ6P",
        "outputId": "142c9fc0-6ca6-48dc-9601-cd8ed400c3f1"
      },
      "execution_count": null,
      "outputs": [
        {
          "output_type": "stream",
          "name": "stderr",
          "text": [
            "/usr/local/lib/python3.10/dist-packages/gym/core.py:317: DeprecationWarning: \u001b[33mWARN: Initializing wrapper in old step API which returns one bool instead of two. It is recommended to set `new_step_api=True` to use new step API. This will be the default behaviour in future.\u001b[0m\n",
            "  deprecation(\n",
            "/usr/local/lib/python3.10/dist-packages/gym/wrappers/step_api_compatibility.py:39: DeprecationWarning: \u001b[33mWARN: Initializing environment in old step API which returns one bool instead of two. It is recommended to set `new_step_api=True` to use new step API. This will be the default behaviour in future.\u001b[0m\n",
            "  deprecation(\n"
          ]
        }
      ]
    },
    {
      "cell_type": "code",
      "source": [
        "Q = np.zeros([env.observation_space.n,env.action_space.n])\n",
        "# Set learning parameters\n",
        "lr = .8\n",
        "y = .95\n",
        "num_episodes = 2000\n",
        "#create lists to contain total rewards and steps per episode\n",
        "#jList = []\n",
        "rList = []\n",
        "for i in range(num_episodes):\n",
        "    #Reset environment and get first new observation\n",
        "    s = env.reset()\n",
        "    rAll = 0\n",
        "    d = False\n",
        "    j = 0\n",
        "    #The Q-Table learning algorithm\n",
        "    while j < 99:\n",
        "        j+=1\n",
        "        #Choose an action by greedily (with noise) picking from Q table\n",
        "        a = np.argmax(Q[s,:] + np.random.randn(1,env.action_space.n)*(1./(i+1)))\n",
        "        #Get new state and reward from environment\n",
        "        s1,r,d,_ = env.step(a)\n",
        "        #Update Q-Table with new knowledge\n",
        "        Q[s,a] = Q[s,a] + lr*(r + y*np.max(Q[s1,:]) - Q[s,a])\n",
        "        rAll += r\n",
        "        s = s1\n",
        "        if d == True:\n",
        "            break\n",
        "    #jList.append(j)\n",
        "    rList.append(rAll)"
      ],
      "metadata": {
        "colab": {
          "base_uri": "https://localhost:8080/"
        },
        "id": "PpXlZrLHmnRC",
        "outputId": "8ab8f455-c2f9-4d4d-a80d-4df8893234bc"
      },
      "execution_count": null,
      "outputs": [
        {
          "output_type": "stream",
          "name": "stderr",
          "text": [
            "/usr/local/lib/python3.10/dist-packages/gym/utils/passive_env_checker.py:241: DeprecationWarning: `np.bool8` is a deprecated alias for `np.bool_`.  (Deprecated NumPy 1.24)\n",
            "  if not isinstance(terminated, (bool, np.bool8)):\n"
          ]
        }
      ]
    },
    {
      "cell_type": "code",
      "source": [
        "print(\"Score over time: \" +  str(sum(rList)/num_episodes))"
      ],
      "metadata": {
        "colab": {
          "base_uri": "https://localhost:8080/"
        },
        "id": "MBXivPA9t4EW",
        "outputId": "de7632ca-355c-4272-d356-5fb7ca0fb1a0"
      },
      "execution_count": null,
      "outputs": [
        {
          "output_type": "stream",
          "name": "stdout",
          "text": [
            "Score over time: 0.5095\n"
          ]
        }
      ]
    },
    {
      "cell_type": "code",
      "source": [
        "print(\"Final Q-Table Values\")\n",
        "print(Q)"
      ],
      "metadata": {
        "colab": {
          "base_uri": "https://localhost:8080/"
        },
        "id": "_cFL5CRmuAUJ",
        "outputId": "cb4c9697-aa1d-4b07-f7a4-405b12fbc1a8"
      },
      "execution_count": null,
      "outputs": [
        {
          "output_type": "stream",
          "name": "stdout",
          "text": [
            "Final Q-Table Values\n",
            "[[2.03080033e-01 7.38537400e-03 5.20803716e-03 5.51978341e-03]\n",
            " [3.64391699e-03 5.43660796e-04 1.71246500e-04 1.90038073e-01]\n",
            " [5.04521250e-03 3.90488493e-03 3.73337605e-03 1.77938098e-01]\n",
            " [4.41028192e-03 2.42738497e-05 3.41147343e-04 4.24433116e-02]\n",
            " [1.73084864e-01 4.78246669e-04 9.88384448e-04 2.75378913e-04]\n",
            " [0.00000000e+00 0.00000000e+00 0.00000000e+00 0.00000000e+00]\n",
            " [1.19972368e-01 3.30961132e-05 9.87687412e-04 1.48993308e-10]\n",
            " [0.00000000e+00 0.00000000e+00 0.00000000e+00 0.00000000e+00]\n",
            " [1.16183569e-04 3.72646821e-04 8.11997564e-05 2.93945432e-01]\n",
            " [2.04583275e-03 2.13138821e-01 2.21639045e-03 6.14210411e-04]\n",
            " [3.64794157e-01 1.25572634e-03 6.01733754e-04 0.00000000e+00]\n",
            " [0.00000000e+00 0.00000000e+00 0.00000000e+00 0.00000000e+00]\n",
            " [0.00000000e+00 0.00000000e+00 0.00000000e+00 0.00000000e+00]\n",
            " [2.35296233e-03 1.67268316e-03 5.64273955e-01 8.10903768e-05]\n",
            " [0.00000000e+00 0.00000000e+00 8.75640903e-01 0.00000000e+00]\n",
            " [0.00000000e+00 0.00000000e+00 0.00000000e+00 0.00000000e+00]]\n"
          ]
        }
      ]
    },
    {
      "cell_type": "markdown",
      "source": [
        "**Q-Network Learning**"
      ],
      "metadata": {
        "id": "v1I-kLwWvp2a"
      }
    },
    {
      "cell_type": "code",
      "source": [
        "import gym\n",
        "import tensorflow as tf\n",
        "import numpy as np\n",
        "import random\n",
        "import matplotlib.pyplot as plt\n",
        "%matplotlib inline\n"
      ],
      "metadata": {
        "id": "nuNlrsHTvwIN"
      },
      "execution_count": null,
      "outputs": []
    },
    {
      "cell_type": "code",
      "source": [
        "env = gym.make('FrozenLake-v1')"
      ],
      "metadata": {
        "colab": {
          "base_uri": "https://localhost:8080/"
        },
        "id": "z7cEnV4ZwDkb",
        "outputId": "36cbb75d-a8c4-4999-abab-b3b5c555d9e3"
      },
      "execution_count": null,
      "outputs": [
        {
          "output_type": "stream",
          "name": "stderr",
          "text": [
            "/usr/local/lib/python3.10/dist-packages/gym/core.py:317: DeprecationWarning: \u001b[33mWARN: Initializing wrapper in old step API which returns one bool instead of two. It is recommended to set `new_step_api=True` to use new step API. This will be the default behaviour in future.\u001b[0m\n",
            "  deprecation(\n",
            "/usr/local/lib/python3.10/dist-packages/gym/wrappers/step_api_compatibility.py:39: DeprecationWarning: \u001b[33mWARN: Initializing environment in old step API which returns one bool instead of two. It is recommended to set `new_step_api=True` to use new step API. This will be the default behaviour in future.\u001b[0m\n",
            "  deprecation(\n"
          ]
        }
      ]
    },
    {
      "cell_type": "markdown",
      "source": [
        "Implementing the network itself"
      ],
      "metadata": {
        "id": "9Qo7YeZKwLPc"
      }
    },
    {
      "cell_type": "code",
      "source": [
        "tf.reset_default_graph()"
      ],
      "metadata": {
        "colab": {
          "base_uri": "https://localhost:8080/",
          "height": 144
        },
        "id": "jwJeNbyewMEI",
        "outputId": "b183845a-3958-4806-c1a7-cf95cd58e02a"
      },
      "execution_count": null,
      "outputs": [
        {
          "output_type": "error",
          "ename": "AttributeError",
          "evalue": "module 'tensorflow' has no attribute 'reset_default_graph'",
          "traceback": [
            "\u001b[0;31m---------------------------------------------------------------------------\u001b[0m",
            "\u001b[0;31mAttributeError\u001b[0m                            Traceback (most recent call last)",
            "\u001b[0;32m<ipython-input-15-c193d79f7d5a>\u001b[0m in \u001b[0;36m<cell line: 1>\u001b[0;34m()\u001b[0m\n\u001b[0;32m----> 1\u001b[0;31m \u001b[0mtf\u001b[0m\u001b[0;34m.\u001b[0m\u001b[0mreset_default_graph\u001b[0m\u001b[0;34m(\u001b[0m\u001b[0;34m)\u001b[0m\u001b[0;34m\u001b[0m\u001b[0;34m\u001b[0m\u001b[0m\n\u001b[0m",
            "\u001b[0;31mAttributeError\u001b[0m: module 'tensorflow' has no attribute 'reset_default_graph'"
          ]
        }
      ]
    },
    {
      "cell_type": "code",
      "source": [
        "# Define inputs using tf.constant\n",
        "inputs1 = tf.constant([[0.0] * 16], dtype=tf.float32)\n",
        "W = tf.Variable(tf.random.uniform([16, 4], 0, 0.01))\n",
        "Qout = tf.matmul(inputs1, W)\n",
        "predict = tf.argmax(Qout, 1)\n",
        "\n",
        "# Define nextQ as another constant (you can adjust according to your specific needs)\n",
        "nextQ = tf.constant([[0.0] * 4], dtype=tf.float32)\n",
        "loss = tf.reduce_sum(tf.square(nextQ - Qout))\n",
        "\n",
        "# Optimizer\n",
        "trainer = tf.optimizers.SGD(learning_rate=0.1)\n",
        "\n",
        "with tf.GradientTape() as tape:\n",
        "    Qout = tf.matmul(inputs1, W)  # Recalculate Qout to be within tape's context\n",
        "    loss = tf.reduce_sum(tf.square(nextQ - Qout))\n",
        "\n",
        "grads = tape.gradient(loss, [W])\n",
        "trainer.apply_gradients(zip(grads, [W]))\n"
      ],
      "metadata": {
        "colab": {
          "base_uri": "https://localhost:8080/"
        },
        "id": "i2nr96R5we1q",
        "outputId": "9487d184-4749-4e46-dd36-d98333fe285f"
      },
      "execution_count": null,
      "outputs": [
        {
          "output_type": "execute_result",
          "data": {
            "text/plain": [
              "<KerasVariable shape=(), dtype=int64, path=SGD/iteration>"
            ]
          },
          "metadata": {},
          "execution_count": 20
        }
      ]
    },
    {
      "cell_type": "markdown",
      "source": [
        "Training the network"
      ],
      "metadata": {
        "id": "XadGdfF3yZKo"
      }
    },
    {
      "cell_type": "code",
      "source": [
        "import tensorflow.compat.v1 as tf\n",
        "tf.disable_v2_behavior()\n",
        "import numpy as np\n",
        "import gym\n",
        "\n",
        "# Initialize environment\n",
        "env = gym.make('FrozenLake-v1')\n",
        "\n",
        "# Define network and training parameters\n",
        "inputs1 = tf.placeholder(shape=[1, 16], dtype=tf.float32)\n",
        "W = tf.Variable(tf.random_uniform([16, 4], 0, 0.01))\n",
        "Qout = tf.matmul(inputs1, W)\n",
        "predict = tf.argmax(Qout, 1)\n",
        "\n",
        "nextQ = tf.placeholder(shape=[1, 4], dtype=tf.float32)\n",
        "loss = tf.reduce_sum(tf.square(nextQ - Qout))\n",
        "trainer = tf.train.GradientDescentOptimizer(learning_rate=0.1)\n",
        "updateModel = trainer.minimize(loss)\n",
        "\n",
        "init = tf.global_variables_initializer()\n",
        "\n",
        "# Set learning parameters\n",
        "y = 0.99\n",
        "e = 0.1\n",
        "num_episodes = 2000\n",
        "jList = []\n",
        "rList = []\n",
        "\n",
        "with tf.Session() as sess:\n",
        "    sess.run(init)\n",
        "    for i in range(num_episodes):\n",
        "        # Reset environment and get first new observation\n",
        "        s = env.reset()\n",
        "        rAll = 0\n",
        "        d = False\n",
        "        j = 0\n",
        "        while j < 99:\n",
        "            j += 1\n",
        "            # Choose an action by greedily (with e chance of random action) from the Q-network\n",
        "            a, allQ = sess.run([predict, Qout], feed_dict={inputs1: np.identity(16)[s:s+1]})\n",
        "            if np.random.rand(1) < e:\n",
        "                a[0] = env.action_space.sample()\n",
        "            # Get new state and reward from environment\n",
        "            s1, r, d, _ = env.step(a[0])\n",
        "            # Obtain the Q' values by feeding the new state through our network\n",
        "            Q1 = sess.run(Qout, feed_dict={inputs1: np.identity(16)[s1:s1+1]})\n",
        "            maxQ1 = np.max(Q1)\n",
        "            targetQ = allQ\n",
        "            targetQ[0, a[0]] = r + y * maxQ1\n",
        "            # Train our network using target and predicted Q values\n",
        "            _, W1 = sess.run([updateModel, W], feed_dict={inputs1: np.identity(16)[s:s+1], nextQ: targetQ})\n",
        "            rAll += r\n",
        "            s = s1\n",
        "            if d == True:\n",
        "                e = 1. / ((i / 50) + 10)\n",
        "                break\n",
        "        jList.append(j)\n",
        "        rList.append(rAll)\n",
        "print(\"Percent of successful episodes: \" + str(sum(rList) / num_episodes) + \"%\")\n"
      ],
      "metadata": {
        "colab": {
          "base_uri": "https://localhost:8080/"
        },
        "id": "khkTd4sSy1zt",
        "outputId": "e172775e-e6c7-4673-c314-f39216af6545"
      },
      "execution_count": null,
      "outputs": [
        {
          "output_type": "stream",
          "name": "stderr",
          "text": [
            "WARNING:tensorflow:From /usr/local/lib/python3.10/dist-packages/tensorflow/python/compat/v2_compat.py:98: disable_resource_variables (from tensorflow.python.ops.resource_variables_toggle) is deprecated and will be removed in a future version.\n",
            "Instructions for updating:\n",
            "non-resource variables are not supported in the long term\n",
            "/usr/local/lib/python3.10/dist-packages/gym/core.py:317: DeprecationWarning: \u001b[33mWARN: Initializing wrapper in old step API which returns one bool instead of two. It is recommended to set `new_step_api=True` to use new step API. This will be the default behaviour in future.\u001b[0m\n",
            "  deprecation(\n",
            "/usr/local/lib/python3.10/dist-packages/gym/wrappers/step_api_compatibility.py:39: DeprecationWarning: \u001b[33mWARN: Initializing environment in old step API which returns one bool instead of two. It is recommended to set `new_step_api=True` to use new step API. This will be the default behaviour in future.\u001b[0m\n",
            "  deprecation(\n",
            "/usr/local/lib/python3.10/dist-packages/gym/utils/passive_env_checker.py:241: DeprecationWarning: `np.bool8` is a deprecated alias for `np.bool_`.  (Deprecated NumPy 1.24)\n",
            "  if not isinstance(terminated, (bool, np.bool8)):\n"
          ]
        },
        {
          "output_type": "stream",
          "name": "stdout",
          "text": [
            "Percent of successful episodes: 0.391%\n"
          ]
        }
      ]
    },
    {
      "cell_type": "markdown",
      "source": [
        "**Some statistics on network performance**\n",
        "\n",
        "We can see that the network beings to consistly reach the goal around the 750 episode mark."
      ],
      "metadata": {
        "id": "xDAGygah5PBc"
      }
    },
    {
      "cell_type": "code",
      "source": [
        "plt.plot(rList)"
      ],
      "metadata": {
        "colab": {
          "base_uri": "https://localhost:8080/",
          "height": 448
        },
        "id": "l0xka2Ge5Qkw",
        "outputId": "ed6ce3f8-3a74-44da-dfd0-115ec3d23073"
      },
      "execution_count": 25,
      "outputs": [
        {
          "output_type": "execute_result",
          "data": {
            "text/plain": [
              "[<matplotlib.lines.Line2D at 0x7e10b167e920>]"
            ]
          },
          "metadata": {},
          "execution_count": 25
        },
        {
          "output_type": "display_data",
          "data": {
            "text/plain": [
              "<Figure size 640x480 with 1 Axes>"
            ],
            "image/png": "[encoded data removed]"
          },
          "metadata": {}
        }
      ]
    },
    {
      "cell_type": "markdown",
      "source": [
        "It also begins to progress through the environment for longer than chance aroudn the 750 mark as well."
      ],
      "metadata": {
        "id": "ShjOJc_o5ceC"
      }
    },
    {
      "cell_type": "code",
      "source": [
        "plt.plot(jList)"
      ],
      "metadata": {
        "colab": {
          "base_uri": "https://localhost:8080/",
          "height": 448
        },
        "id": "wIypv5xG5YW9",
        "outputId": "f347b6ab-570e-4306-ebe5-bb9f1c0b84ea"
      },
      "execution_count": 26,
      "outputs": [
        {
          "output_type": "execute_result",
          "data": {
            "text/plain": [
              "[<matplotlib.lines.Line2D at 0x7e10b0490cd0>]"
            ]
          },
          "metadata": {},
          "execution_count": 26
        },
        {
          "output_type": "display_data",
          "data": {
            "text/plain": [
              "<Figure size 640x480 with 1 Axes>"
            ],
            "image/png": "[encoded data removed]"
          },
          "metadata": {}
        }
      ]
    }
  ]
}